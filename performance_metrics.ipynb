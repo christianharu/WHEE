{
 "cells": [
  {
   "cell_type": "code",
   "execution_count": 1,
   "metadata": {},
   "outputs": [],
   "source": [
    "import pandas as pd\n",
    "import os\n"
   ]
  },
  {
   "cell_type": "markdown",
   "metadata": {},
   "source": [
    "### Load Dataset"
   ]
  },
  {
   "cell_type": "code",
   "execution_count": 2,
   "metadata": {},
   "outputs": [],
   "source": [
    "database_name = 'hri_data_cues_revised_label_gpt-4o-mini_classified.csv'\n",
    "current_folder = os.getcwd()\n",
    "\n",
    "database_path = os.path.join(current_folder, 'processed_datasets',database_name)\n",
    "\n",
    "database = pd.read_csv(database_path)"
   ]
  },
  {
   "cell_type": "markdown",
   "metadata": {},
   "source": [
    "### Compute the Accuracy"
   ]
  },
  {
   "cell_type": "code",
   "execution_count": 3,
   "metadata": {},
   "outputs": [
    {
     "name": "stdout",
     "output_type": "stream",
     "text": [
      "Accuracy: 57.63%\n"
     ]
    }
   ],
   "source": [
    "correct_count = 0\n",
    "total_count = 0\n",
    "\n",
    "# iterate over the rows of the database\n",
    "for index, row in database.iterrows():\n",
    "        # Get the text and label\n",
    "        ground_truth = row[\"label\"]\n",
    "        prediction = row[\"classification_label\"]\n",
    "\n",
    "        total_count += 1\n",
    "\n",
    "        # Check if the prediction is correct\n",
    "        if ground_truth == prediction:\n",
    "            correct_count += 1\n",
    "\n",
    "\n",
    "# Compute the accuracy\n",
    "accuracy = correct_count / total_count\n",
    "print(f\"Accuracy: {accuracy * 100:.2f}%\")\n"
   ]
  },
  {
   "cell_type": "markdown",
   "metadata": {},
   "source": [
    "### 500 - non_hri -- accuracy: 87.03%\n",
    "### hri -- accuracy: 65.42%"
   ]
  }
 ],
 "metadata": {
  "kernelspec": {
   "display_name": "empathy",
   "language": "python",
   "name": "python3"
  },
  "language_info": {
   "codemirror_mode": {
    "name": "ipython",
    "version": 3
   },
   "file_extension": ".py",
   "mimetype": "text/x-python",
   "name": "python",
   "nbconvert_exporter": "python",
   "pygments_lexer": "ipython3",
   "version": "3.11.4"
  }
 },
 "nbformat": 4,
 "nbformat_minor": 2
}
