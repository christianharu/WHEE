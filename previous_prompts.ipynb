{
 "cells": [
  {
   "cell_type": "markdown",
   "metadata": {},
   "source": [
    "## Previously Used Prompts"
   ]
  },
  {
   "cell_type": "markdown",
   "metadata": {},
   "source": [
    "### For classification_utterance"
   ]
  },
  {
   "cell_type": "code",
   "execution_count": null,
   "metadata": {},
   "outputs": [],
   "source": [
    "prompt_template = \"\"\"\n",
    "Classify an utterance based on the following empathy categories:\n",
    "\n",
    "- **Seeking Empathy (Label: 1)** – Defined as a need to be heard and understood. When people experience challenging situations, they need their feelings to be recognized and acknowledged.\n",
    "- **Providing Empathy (Label: 2)** – Defined as experiencing and understanding the feelings of another and acting accordingly.\n",
    "- **None (Label: 0)** – Conversations that do not seek or provide empathy. These are straightforward, fact-oriented exchanges.\n",
    "\n",
    "Additionally, consider the following **empathy-related features** for classification:\n",
    "\n",
    "- **Arousal** (range: -1 to 1) – Reflects the emotional intensity of a person (-1 = very calm, 1 = highly aroused).\n",
    "- **Valence** (range: -1 to 1) – Indicates emotional polarity (-1 = very negative, 1 = very positive).\n",
    "- **Who** (range: [0, 1, 2]) – Identifies the subject of the conversation:\n",
    "  - 0 = The person's main attention is on themselves (e.g., \"I\" or \"we\" pronoun).\n",
    "  - 1 = The person's main attention is on the person their having the conversation with (e.g., \"you\" pronoun).\n",
    "  - 2 = The person's main attention is on another person or topic.\n",
    "- **Sentiment** (range: [0, 1]) – Identifies polarity:\n",
    "  - 0 = Negative sentiment.\n",
    "  - 1 = Positive sentiment.\n",
    "  - 2 = Neutral sentiment.\n",
    "- **Emotional Reactions** (range: [0, 1]) – Measures emotional expressiveness in the person who could provide empathy response:\n",
    "  - 0 = Weak (no explicit emotional label).\n",
    "  - 1 = Strong (explicit emotional response, e.g., \"I feel sad for you\").\n",
    "  - -1 = Only if the utterance was labeled as \"seeking empathy\" (label: 1).\n",
    "- **Interpretations** (range: [0, 1]) – Evaluates how well the person who could provide empathy demonstrates understanding:\n",
    "  - 0 = Weak (generic acknowledgment, e.g., \"I understand how you feel\").\n",
    "  - 1 = Strong (specific inference, e.g., \"This must be terrifying\" or descriptions of similar experiences).\n",
    "  - -1 = Only if the utterance was labeled as \"seeking empathy\" (label: 1).\n",
    "- **Explorations** (range: [0, 1]) – Assesses how well the the person who could provide empathy helps the person who seeks empathy explore their emotions:\n",
    "  - 0 = Weak (generic question, e.g., \"What happened?\").\n",
    "  - 1 = Strong (specific question, e.g., \"Are you feeling alone right now?\").\n",
    "  - -1 = Only if the utterance was labeled as \"seeking empathy\" (label: 1).\n",
    "\n",
    "Provide your classification using the following format:\n",
    "\n",
    "classification_label: _  \n",
    "reason: _  \n",
    "arousal: _  \n",
    "valence: _   \n",
    "who: _  \n",
    "sentiment: _  \n",
    "emotional_reaction: _  \n",
    "interpretations: _  \n",
    "explorations: _  \n",
    "\n",
    "Conversation to classify:  \n",
    "Utterance: {utterance_classify}  \n",
    "\"\"\"\n"
   ]
  },
  {
   "cell_type": "markdown",
   "metadata": {},
   "source": [
    "### For classification_with_cues"
   ]
  },
  {
   "cell_type": "code",
   "execution_count": null,
   "metadata": {},
   "outputs": [],
   "source": [
    "prompt_template = \"\"\"\n",
    "Classify an utterance based on the following empathy categories:\n",
    "\n",
    "- **Seeking Empathy (Label: 1)** – Defined as a need to be heard and understood. When people experience challenging situations, they need their feelings to be recognized and acknowledged.\n",
    "- **Providing Empathy (Label: 2)** – Defined as experiencing and understanding the feelings of another and acting accordingly.\n",
    "- **None (Label: 0)** – Conversations that do not seek or provide empathy. These are straightforward, fact-oriented exchanges.\n",
    "\n",
    "Additionally, consider the following **empathy-related features** for classification:\n",
    "\n",
    "- **Arousal** (range: -1 to 1) – Reflects the emotional intensity of a person (-1 = very calm, 1 = highly aroused).\n",
    "- **Valence** (range: -1 to 1) – Indicates emotional polarity (-1 = very negative, 1 = very positive).\n",
    "- **Who** (range: [0, 1, 2]) – Identifies the subject of the conversation:\n",
    "  - 0 = The person's main attention is on themselves (e.g., \"I\" or \"we\" pronoun).\n",
    "  - 1 = The person's main attention is on the person their having the conversation with (e.g., \"you\" pronoun).\n",
    "  - 2 = The person's main attention is on another person or topic.\n",
    "- **Sentiment** (range: [0, 1]) – Identifies polarity:\n",
    "  - negative = Negative sentiment.\n",
    "  - positive = Positive sentiment.\n",
    "  - neutral = Neutral sentiment.\n",
    "- **Emotional Reactions** (range: [0, 1]) – Measures emotional expressiveness in the person who could provide empathy response:\n",
    "  - 0 = Weak (no explicit emotional label).\n",
    "  - 1 = Strong (explicit emotional response, e.g., \"I feel sad for you\").\n",
    "- **Interpretations** (range: [0, 1]) – Evaluates how well the person who could provide empathy demonstrates understanding:\n",
    "  - 0 = Weak (generic acknowledgment, e.g., \"I understand how you feel\").\n",
    "  - 1 = Strong (specific inference, e.g., \"This must be terrifying\" or descriptions of similar experiences).\n",
    "- **Explorations** (range: [0, 1]) – Assesses how well the the person who could provide empathy helps the person who seeks empathy explore their emotions:\n",
    "  - 0 = Weak (generic question, e.g., \"What happened?\").\n",
    "  - 1 = Strong (specific question, e.g., \"Are you feeling alone right now?\").\n",
    "\n",
    "\n",
    "  \n",
    "Conversation to classify:  \n",
    "Utterance: {utterance_classify}\n",
    "\n",
    "Also consider for the classification the observed empathy feature values in the utterance:\n",
    "arousal: {arousal_level}\n",
    "valence: {valence_level}\n",
    "sentiment: {sentiment_label}\n",
    "emotional_reaction: {emotional_reaction_label}\n",
    "interpretations: {interpretations_label}\n",
    "explorations: {explorations_label}\n",
    "\n",
    "\n",
    "Provide your classification using the following format:\n",
    "reason: _\n",
    "who: _ \n",
    "classification_label: _  \n",
    "\"\"\""
   ]
  }
 ],
 "metadata": {
  "kernelspec": {
   "display_name": "empathy",
   "language": "python",
   "name": "python3"
  },
  "language_info": {
   "name": "python",
   "version": "3.11.4"
  }
 },
 "nbformat": 4,
 "nbformat_minor": 2
}
